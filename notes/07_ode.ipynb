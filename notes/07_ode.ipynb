{
 "cells": [
  {
   "cell_type": "markdown",
   "metadata": {},
   "source": [
    "# ODE\n",
    "\n",
    "We will solve the following linear Cauchy model\n",
    "\n",
    "\\begin{align}\n",
    "y^{\\prime}(t) &= \\lambda y(t) = f(t, y)\\\\\n",
    "y(0) & = 1\n",
    "\\end{align}\n",
    "\n",
    "whose exact solution is\n",
    "\n",
    "$$\n",
    "y(t) = e^{\\lambda t}\n",
    "$$\n"
   ]
  },
  {
   "cell_type": "code",
   "execution_count": 16,
   "metadata": {},
   "outputs": [],
   "source": [
    "%matplotlib inline\n",
    "from numpy import *\n",
    "from matplotlib.pyplot import *\n",
    "import scipy.linalg\n",
    "import numpy.linalg\n",
    "\n",
    "l = -5.\n",
    "t0 = 0.\n",
    "tf = 10.\n",
    "y0 = 1.\n",
    "\n",
    "s = linspace(t0,tf,5000)\n",
    "\n",
    "exact = lambda x: exp(l*x)"
   ]
  },
  {
   "cell_type": "markdown",
   "metadata": {},
   "source": [
    "### Forward Euler\n",
    "\n",
    "\n",
    "$$\n",
    "\\frac{y_{n}-y_{n-1}}{h} = f(y_{n-1}, t_{n-1})\n",
    "$$\n",
    "\n",
    "where:\n",
    "\n",
    "$$ f(t, y) = \\lambda y(t) $$"
   ]
  },
  {
   "cell_type": "code",
   "execution_count": 15,
   "metadata": {},
   "outputs": [
    {
     "name": "stdout",
     "output_type": "stream",
     "text": [
      "0.0567383436176\n"
     ]
    },
    {
     "data": {
      "image/png": "iVBORw0KGgoAAAANSUhEUgAAAXcAAAD8CAYAAACMwORRAAAABHNCSVQICAgIfAhkiAAAAAlwSFlz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\nAAAAAElFTkSuQmCC\n",
      "text/plain": [
       "<matplotlib.figure.Figure at 0x7f82dafc8a58>"
      ]
     },
     "metadata": {},
     "output_type": "display_data"
    }
   ],
   "source": [
    "def fe(l,y0,t0,tf,h):\n",
    "    timesteps = arange(t0,tf+1e-10, h)\n",
    "    sol = zeros_like(timesteps)\n",
    "    sol[0] = y0\n",
    "    for i in range(1,len(sol)):\n",
    "        sol[i] = sol[i-1]*(1+l*h)\n",
    "    \n",
    "    return sol, timesteps\n",
    "\n",
    "y, t = fe(l,y0,t0,tf,0.01)\n",
    "\n",
    "plot(t,y, 'o-')\n",
    "plot(s,exact(s))\n",
    "\n",
    "error = numpy.linalg.norm(exact(t) - y, 2)\n",
    "print(error)"
   ]
  },
  {
   "cell_type": "markdown",
   "metadata": {},
   "source": [
    "### Backward Euler\n",
    "\n",
    "$$\n",
    "\\frac{y_{n}-y_{n-1}}{h} = f(y_{n}, t_{n})\n",
    "$$\n",
    "\n",
    "Explanation:\n",
    "\n",
    "$$\n",
    "\\frac{y_{n}-y_{n-1}}{h} = f(y_{n}, t_{n}) = \\lambda y_n \\\\\n",
    "y_{n}-y_{n-1} = h \\lambda y_n \\\\\n",
    "y_n - h \\lambda y_n = y_n (1 - h \\lambda) = y_{n-1} \\\\\n",
    "y_n = \\frac{y_{n-1}}{1 - h \\lambda}\n",
    "$$\n",
    "\n",
    "In the code: $ y_n $ = sol[i] and "
   ]
  },
  {
   "cell_type": "code",
   "execution_count": 10,
   "metadata": {
    "scrolled": false
   },
   "outputs": [
    {
     "name": "stdout",
     "output_type": "stream",
     "text": [
      "0.076565003273\n"
     ]
    },
    {
     "data": {
      "image/png": "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\n",
      "text/plain": [
       "<matplotlib.figure.Figure at 0x7f71865d2240>"
      ]
     },
     "metadata": {},
     "output_type": "display_data"
    }
   ],
   "source": [
    "def be(l,y0,t0,tf,h):\n",
    "    timesteps = arange(t0,tf+1e-10, h)\n",
    "    sol = zeros_like(timesteps)\n",
    "    sol[0] = y0\n",
    "    for i in range(1,len(sol)):\n",
<<<<<<< HEAD
    "        sol[i] = sol[i-1]*(1+l*h)\n",
    "    \n",
    "    return sol, timesteps\n",
    "\n",
    "y, t = fe(l,y0,t0,tf,0.01)\n",
    "\n",
    "plot(t,y, 'o-')\n",
    "plot(s,exact(s))\n",
    "\n",
    "error = numpy.linalg.norm(exact(t) - y, 2)\n",
=======
    "        sol[i] = sol[i-1]/(1-l*h)\n",
    "    \n",
    "    return sol, timesteps\n",
    "\n",
    "y, t = be(l,y0,t0,tf,0.1)\n",
    "\n",
    "_ = plot(t,y, 'o-')\n",
    "_ = plot(s,exact(s))\n",
    "\n",
    "error = numpy.linalg.norm(exact(t) - y, infty)\n",
>>>>>>> 5c6d7c0df2c14a3210d519036d5609d8d3e2ff4e
    "print(error)"
   ]
  },
  {
   "cell_type": "markdown",
   "metadata": {},
   "source": [
    "### $\\theta$-method\n",
    "\n",
    "$$\n",
    "\\frac{y_{n}-y_{n-1}}{h} = \\theta\\, f(y_{n}, t_{n}) + (1-\\theta)\\,f(y_{n-1}, t_{n-1})\n",
    "$$"
   ]
  },
  {
   "cell_type": "code",
   "execution_count": 12,
   "metadata": {},
   "outputs": [
    {
     "name": "stdout",
     "output_type": "stream",
     "text": [
      "0.0276016633937\n"
     ]
    },
    {
     "data": {
      "image/png": "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\n",
      "text/plain": [
       "<matplotlib.figure.Figure at 0x7fef18b4f6d8>"
      ]
     },
     "metadata": {},
     "output_type": "display_data"
    }
   ],
   "source": [
    "def tm(theta,l,y0,t0,tf,h):\n",
    "    timesteps = arange(t0,tf+1e-10, h)\n",
    "    sol = zeros_like(timesteps)\n",
    "    sol[0] = y0\n",
    "    for i in range(1,len(sol)):\n",
    "        sol[i] = theta*sol[i-1]/(1-l*h) + (1.-theta)*sol[i-1]*(1+l*h)\n",
    "    \n",
    "    return sol, timesteps\n",
    "\n",
    "y, t = tm(0.5,l,y0,t0,tf,0.1)\n",
    "\n",
    "_ = plot(t,y, 'o-')\n",
    "_ = plot(s,exact(s))\n",
    "\n",
    "error = numpy.linalg.norm(exact(t) - y, infty)\n",
    "print(error)"
   ]
  },
  {
   "cell_type": "markdown",
   "metadata": {},
   "source": [
    "### Simple adaptive time stepper\n",
    "\n",
    "For each time step:\n",
    "- Compute solution with CN\n",
    "- Compute solution with BE\n",
    "- Check the difference\n",
    "- If the difference satisfy a given tolerance:\n",
    "    - keep the solution of higher order\n",
    "    - double the step size\n",
    "    - go to the next step\n",
    "- Else:\n",
    "    - half the step size and repeat the time step"
   ]
  },
  {
   "cell_type": "code",
   "execution_count": 33,
   "metadata": {},
   "outputs": [
    {
     "name": "stdout",
     "output_type": "stream",
     "text": [
      " 0.000817298421905 74\n"
     ]
    },
    {
     "data": {
      "image/png": "iVBORw0KGgoAAAANSUhEUgAAAhAAAAFkCAYAAABxWwLDAAAABHNCSVQICAgIfAhkiAAAAAlwSFlz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\nkiQV7P8HM3HMhTP2D2AAAAAASUVORK5CYII=\n",
      "text/plain": [
       "<matplotlib.figure.Figure at 0x7f4d938b1210>"
      ]
     },
     "metadata": {},
     "output_type": "display_data"
    }
   ],
   "source": [
    "def adaptive(l,y0,t0,tf,h0, hmax=0.9,tol=1e-3):\n",
    "    sol = []\n",
    "    sol.append(y0)\n",
    "    t = []\n",
    "    t.append(t0)\n",
    "    h = h0\n",
    "    while t[-1] < tf:\n",
    "        #print 'current t =', t[-1], '            h=', h\n",
    "        current_sol = sol[-1]\n",
    "        current_t = t[-1]\n",
    "        sol_cn, _ = tm(0.5,l,current_sol,current_t, current_t + h, h)\n",
    "        sol_be, _ = tm(1.,l,current_sol,current_t, current_t + h, h)\n",
    "        \n",
    "        if (abs(sol_cn[-1] - sol_be[-1]) < tol): #accept\n",
    "            sol.append(sol_cn[-1])\n",
    "            t.append(current_t+h)\n",
    "            h *= 2.\n",
    "            if h > hmax:\n",
    "                h=hmax\n",
    "        else:\n",
    "            h /= 2.\n",
    "            \n",
    "    return sol, t\n",
    "\n",
    "y,t = adaptive(l,y0,t0,tf,0.9)\n",
    "_ = plot(t,y, 'o-')\n",
    "_ = plot(s,exact(array(s)))\n",
    "\n",
    "error = numpy.linalg.norm(exact(array(t)) - y, infty)\n",
    "print error, len(y)"
   ]
  },
  {
   "cell_type": "code",
   "execution_count": null,
   "metadata": {},
   "outputs": [],
   "source": []
  },
  {
   "cell_type": "code",
   "execution_count": null,
   "metadata": {
    "collapsed": true
   },
   "outputs": [],
   "source": []
  }
 ],
 "metadata": {
  "anaconda-cloud": {},
  "kernelspec": {
   "display_name": "Python 3",
   "language": "python",
   "name": "python3"
  },
  "language_info": {
   "codemirror_mode": {
    "name": "ipython",
    "version": 3
   },
   "file_extension": ".py",
   "mimetype": "text/x-python",
   "name": "python",
   "nbconvert_exporter": "python",
   "pygments_lexer": "ipython3",
   "version": "3.6.2"
  }
 },
 "nbformat": 4,
 "nbformat_minor": 1
}
